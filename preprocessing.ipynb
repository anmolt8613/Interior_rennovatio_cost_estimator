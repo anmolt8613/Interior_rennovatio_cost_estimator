{
 "cells": [
  {
   "cell_type": "code",
   "execution_count": 1,
   "id": "fdad65d5",
   "metadata": {},
   "outputs": [],
   "source": [
    "import pandas as pd\n",
    "from sklearn.preprocessing import LabelEncoder"
   ]
  },
  {
   "cell_type": "code",
   "execution_count": 26,
   "id": "4d591347",
   "metadata": {},
   "outputs": [],
   "source": [
    "df = pd.read_csv(\"renovation_cost_dataset_india_v2.csv\") "
   ]
  },
  {
   "cell_type": "code",
   "execution_count": 27,
   "id": "f8f51da2",
   "metadata": {},
   "outputs": [],
   "source": [
    "df[\"As_Of_Date\"] = pd.to_datetime(df[\"As_Of_Date\"], dayfirst=True)"
   ]
  },
  {
   "cell_type": "code",
   "execution_count": 28,
   "id": "e65de338",
   "metadata": {},
   "outputs": [],
   "source": [
    "df = df.drop(columns=[\"Material_Price_Index\"])"
   ]
  },
  {
   "cell_type": "code",
   "execution_count": 29,
   "id": "f203827e",
   "metadata": {},
   "outputs": [],
   "source": [
    "# Step 2: Encode City_Tier\n",
    "# ------------------------\n",
    "tier_map = {\"Metro\": 3, \"Tier-2\": 2, \"Tier-3\": 1}\n",
    "df[\"City_Tier\"] = df[\"City_Tier\"].map(tier_map)"
   ]
  },
  {
   "cell_type": "code",
   "execution_count": 30,
   "id": "eacddf67",
   "metadata": {},
   "outputs": [],
   "source": [
    "# Step 3: Boolean to Numeric\n",
    "# ------------------------\n",
    "# Convert to string, uppercase, strip spaces\n",
    "df[\"Has_Electrical\"] = df[\"Has_Electrical\"].astype(str).str.upper().str.strip()\n",
    "\n",
    "# Map cleanly\n",
    "df[\"Has_Electrical\"] = df[\"Has_Electrical\"].map({\n",
    "    \"TRUE\": 1,\n",
    "    \"FALSE\": 0\n",
    "})\n",
    "\n",
    "# If anything still missing, fill with 0 (no electrical)\n",
    "df[\"Has_Electrical\"] = df[\"Has_Electrical\"].fillna(0).astype(int)"
   ]
  },
  {
   "cell_type": "code",
   "execution_count": 31,
   "id": "123aa651",
   "metadata": {},
   "outputs": [],
   "source": [
    "# Step 4: Replace None / Missing Values\n",
    "# ------------------------\n",
    "df = df.fillna(\"NA\")              # categorical missing values\n",
    "cost_cols = [col for col in df.columns if \"Cost\" in col or \"Total\" in col]\n",
    "df[cost_cols] = df[cost_cols].replace(\"None\", 0).astype(float)"
   ]
  },
  {
   "cell_type": "code",
   "execution_count": 32,
   "id": "4b14928a",
   "metadata": {},
   "outputs": [],
   "source": [
    "# Step 5: Encode Categorical Columns\n",
    "# ------------------------\n",
    "cat_cols = [\"City\", \"Room_Type\", \"Renovation_Level\", \"Paint_Quality\",\n",
    "            \"Floor_Type\", \"Floor_Quality\", \"Ceiling_Type\", \"Ceiling_Quality\",\n",
    "            \"Furniture_Level\", \"Kitchen_Package\", \"Bathroom_Package\"]\n",
    "\n",
    "le = LabelEncoder()\n",
    "for col in cat_cols:\n",
    "    df[col] = le.fit_transform(df[col].astype(str))\n"
   ]
  },
  {
   "cell_type": "code",
   "execution_count": 34,
   "id": "c2ab2966",
   "metadata": {},
   "outputs": [],
   "source": [
    "# Save Outputs\n",
    "# ------------------------\n",
    "df.to_csv(\"renovation_preprocessed.csv\", index=False)"
   ]
  },
  {
   "cell_type": "code",
   "execution_count": null,
   "id": "8da353e4",
   "metadata": {},
   "outputs": [],
   "source": []
  }
 ],
 "metadata": {
  "kernelspec": {
   "display_name": "Python 3",
   "language": "python",
   "name": "python3"
  },
  "language_info": {
   "codemirror_mode": {
    "name": "ipython",
    "version": 3
   },
   "file_extension": ".py",
   "mimetype": "text/x-python",
   "name": "python",
   "nbconvert_exporter": "python",
   "pygments_lexer": "ipython3",
   "version": "3.10.11"
  }
 },
 "nbformat": 4,
 "nbformat_minor": 5
}
